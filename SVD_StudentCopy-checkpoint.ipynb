{
 "cells": [
  {
   "cell_type": "code",
   "execution_count": 1,
   "metadata": {},
   "outputs": [],
   "source": [
    "import pandas as pd"
   ]
  },
  {
   "cell_type": "markdown",
   "metadata": {},
   "source": [
    "# <center>Latent Semantic Analysis using SVD</center>\n",
    "\n",
    "___\n",
    "\n",
    "Latent Semantic Analysis is a technique is Natural Language Processing of analyzing relationships between a set of documents and the terms they contain by producing a set of concepts related to the documents and terms.\n",
    "\n",
    "LSA finds this relationship by using a mathematical technique called Singular Vector Decomposition (SVD), which decomposes the document term matrix into three matrices.\n",
    "\n",
    "- Input A, a matrix where m is the number of documents and n is the number of terms. A will be decomposed into 3 matrices as below -\n",
    "\n",
    "$$A\\ = U\\sum V^T$$\n",
    "\n",
    "- Matrix U will be m*k matrix. The rows will be the documents and the columns will be concepts (or topics)\n",
    "- Matrix Sigma will be k*k diagonal matrix. The elements will be the amount of variation captured from each concept\n",
    "- Matrix V will be m*k (the transpose matrix). The rows will be the terms and columns will be the concepts\n",
    "\n",
    "SVD also reduces the dimensions significantly as the new concept space defined by eigen vectors is in sorted order, with first dimension defining the strongest concept dimension.\n",
    "\n",
    "Just like PCA, we need not use the entire matrix and can pick first k values which will define majority of the relationship between terms and documents.\n",
    "\n",
    "This is why its called `Reduced SVD` or `Truncated SVD`\n",
    "\n",
    "Now, let's see how to implement this."
   ]
  },
  {
   "cell_type": "code",
   "execution_count": null,
   "metadata": {},
   "outputs": [],
   "source": [
    "d1 = \"The Indian Space Research Organisation (Isro) is planning to launch Chandrayaan 3 during the first half of 2021. The previous one crash landed on Moon’s surface in September 2019.The mission has been configured based on the lessons learnt from Chadrayaan 2.\"\n",
    "\n",
    "d2 = \"The launch of the Mars Orbiter Mission (MOM) also known as the Mangalyaan mission was a daring effort by the Indian Space Research Organisation (ISRO) to attempt an inter-planetary journey.\"\n",
    "\n",
    "d3 = \"On Friday health authorities in Florida said two COVID-19 patients in the state have died, in what are believed to be the first deaths linked to the disease in florida\"\n",
    "\n",
    "d4 = \"Two people in Florida who tested positive for the coronavirus have died, becoming the first known fatalities outside California and Washington state, health officials reported Friday.\"\n",
    "\n",
    "d5 = \"Artificial intelligence is the simulation of human intelligence processes by machines, especially computer systems.\"\n",
    "\n",
    "d6 = \"Machine learning is provides systems the ability to automatically learn and improve from experience without being explicitly programmed\"\n",
    "\n",
    "d_all = [d1, d2, d3, d4, d5, d6]"
   ]
  },
  {
   "cell_type": "code",
   "execution_count": null,
   "metadata": {},
   "outputs": [],
   "source": [
    "d_all"
   ]
  },
  {
   "cell_type": "code",
   "execution_count": null,
   "metadata": {},
   "outputs": [],
   "source": [
    "from sklearn.feature_extraction.text import TfidfVectorizer\n",
    "vectorizer = TfidfVectorizer(ngram_range=(2,3))"
   ]
  },
  {
   "cell_type": "code",
   "execution_count": null,
   "metadata": {},
   "outputs": [],
   "source": [
    "# Create a TFIDF matrix by applying fit() and transform() of the TFidfVectorizer() \n",
    "tfidf1 =\n",
    "tfidf ="
   ]
  },
  {
   "cell_type": "code",
   "execution_count": null,
   "metadata": {},
   "outputs": [],
   "source": [
    "pd.DataFrame(tfidf.toarray(), columns= vectorizer.get_feature_names())"
   ]
  },
  {
   "cell_type": "code",
   "execution_count": null,
   "metadata": {},
   "outputs": [],
   "source": [
    "components = 3\n",
    "\n",
    "from sklearn.decomposition import TruncatedSVD\n",
    "lsa = TruncatedSVD(n_components= components)\n",
    "lsa.fit(tfidf)\n",
    "lsa_data = lsa.transform(tfidf)"
   ]
  },
  {
   "cell_type": "code",
   "execution_count": null,
   "metadata": {},
   "outputs": [],
   "source": [
    "# Print the U and Sigma matrx \n"
   ]
  },
  {
   "cell_type": "code",
   "execution_count": null,
   "metadata": {},
   "outputs": [],
   "source": [
    "terms = vectorizer.get_feature_names()"
   ]
  },
  {
   "cell_type": "code",
   "execution_count": null,
   "metadata": {},
   "outputs": [],
   "source": [
    "len(terms)"
   ]
  },
  {
   "cell_type": "code",
   "execution_count": null,
   "metadata": {},
   "outputs": [],
   "source": [
    "terms"
   ]
  },
  {
   "cell_type": "code",
   "execution_count": null,
   "metadata": {},
   "outputs": [],
   "source": [
    "# The variance of the training samples transformed by a projection to each component.\n",
    "print(lsa.explained_variance_)"
   ]
  },
  {
   "cell_type": "code",
   "execution_count": null,
   "metadata": {},
   "outputs": [],
   "source": [
    "# Percentage of variance explained by each of the selected components.\n",
    "print(lsa.explained_variance_ratio_)"
   ]
  },
  {
   "cell_type": "code",
   "execution_count": null,
   "metadata": {},
   "outputs": [],
   "source": [
    "# The singular values corresponding to each of the selected components.\n"
   ]
  },
  {
   "cell_type": "code",
   "execution_count": null,
   "metadata": {},
   "outputs": [],
   "source": [
    "print(tfidf.shape)\n",
    "print(lsa.components_.shape)"
   ]
  },
  {
   "cell_type": "code",
   "execution_count": null,
   "metadata": {},
   "outputs": [],
   "source": [
    "# Printing the V Transpose matrix\n"
   ]
  },
  {
   "cell_type": "code",
   "execution_count": null,
   "metadata": {},
   "outputs": [],
   "source": [
    "for i,comp in enumerate(lsa.components_):\n",
    "    termsInComp = zip(terms,comp)\n",
    "    sortedterms = sorted(termsInComp, key=lambda x: x[1],reverse=True)[0:15]\n",
    "    print(\"Concept %d:\" % i)\n",
    "    for term in sortedterms:\n",
    "        print(term[0])\n",
    "    print(\" \")"
   ]
  },
  {
   "cell_type": "code",
   "execution_count": null,
   "metadata": {},
   "outputs": [],
   "source": [
    "import pandas as pd\n",
    "\n",
    "concepts = ['concept{}'.format(i) for i in range(components)]\n",
    "concept_word = pd.DataFrame(lsa.components_, columns=vectorizer.get_feature_names(), index=concepts)\n",
    "concept_word"
   ]
  },
  {
   "cell_type": "code",
   "execution_count": null,
   "metadata": {},
   "outputs": [],
   "source": [
    "lsa_data"
   ]
  },
  {
   "cell_type": "code",
   "execution_count": null,
   "metadata": {},
   "outputs": [],
   "source": [
    "doc_concept = pd.DataFrame(lsa_data, index = d_all,columns=concepts)\n",
    "doc_concept"
   ]
  },
  {
   "cell_type": "code",
   "execution_count": null,
   "metadata": {},
   "outputs": [],
   "source": [
    "test = ['Artificial Intelligence will play very important role in future','indias future space exploration plans depends on the success of Chadrayaan 3']"
   ]
  },
  {
   "cell_type": "code",
   "execution_count": null,
   "metadata": {},
   "outputs": [],
   "source": [
    "# Step1 : Convert the test documents to TFIDF\n"
   ]
  },
  {
   "cell_type": "code",
   "execution_count": null,
   "metadata": {},
   "outputs": [],
   "source": [
    "# Step2 : Apply truncated SVD\n"
   ]
  },
  {
   "cell_type": "code",
   "execution_count": null,
   "metadata": {},
   "outputs": [],
   "source": [
    "# Executing Step1 and Step2 together and finding the concept from the text.\n",
    "import numpy as np\n",
    "print(\"1st sentence:\",np.argmax(lsa.transform(tfidf_test[0])))\n",
    "print(\"2nd sentence:\",np.argmax(lsa.transform(tfidf_test[1])))"
   ]
  },
  {
   "cell_type": "code",
   "execution_count": null,
   "metadata": {},
   "outputs": [],
   "source": []
  }
 ],
 "metadata": {
  "hide_input": false,
  "kernelspec": {
   "display_name": "Python 3",
   "language": "python",
   "name": "python3"
  },
  "language_info": {
   "codemirror_mode": {
    "name": "ipython",
    "version": 3
   },
   "file_extension": ".py",
   "mimetype": "text/x-python",
   "name": "python",
   "nbconvert_exporter": "python",
   "pygments_lexer": "ipython3",
   "version": "3.7.3"
  }
 },
 "nbformat": 4,
 "nbformat_minor": 2
}
